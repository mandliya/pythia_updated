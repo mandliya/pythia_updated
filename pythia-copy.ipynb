{
 "cells": [
  {
   "cell_type": "code",
   "execution_count": 1,
   "metadata": {},
   "outputs": [
    {
     "name": "stdout",
     "output_type": "stream",
     "text": [
      "Collecting ninja\n",
      "\u001b[?25l  Downloading https://files.pythonhosted.org/packages/cc/bf/32e5dd5cce6543374e4050a7292099402ab80787eddf3732810a55b37763/ninja-1.9.0.post1-py3-none-manylinux1_x86_64.whl (98kB)\n",
      "\u001b[K     |████████████████████████████████| 102kB 4.6MB/s ta 0:00:011\n",
      "\u001b[?25hCollecting yacs\n",
      "  Downloading https://files.pythonhosted.org/packages/2f/51/9d613d67a8561a0cdf696c3909870f157ed85617fea3cff769bb7de09ef7/yacs-0.1.6-py3-none-any.whl\n",
      "Collecting cython\n",
      "\u001b[?25l  Downloading https://files.pythonhosted.org/packages/d7/aa/f514fc8afe0ed63844a35f073c44f6d98db75d323e05167417b1118f08b3/Cython-0.29.9-cp36-cp36m-manylinux1_x86_64.whl (2.1MB)\n",
      "\u001b[K     |████████████████████████████████| 2.1MB 15.7MB/s eta 0:00:01\n",
      "\u001b[?25hCollecting matplotlib\n",
      "\u001b[?25l  Downloading https://files.pythonhosted.org/packages/da/83/d989ee20c78117c737ab40e0318ea221f1aed4e3f5a40b4f93541b369b93/matplotlib-3.1.0-cp36-cp36m-manylinux1_x86_64.whl (13.1MB)\n",
      "\u001b[K     |████████████████████████████████| 13.1MB 55.1MB/s eta 0:00:01\n",
      "\u001b[?25hRequirement already satisfied: demjson in /home/rmandli_g_clemson_edu/.conda/envs/springboard/lib/python3.6/site-packages/demjson-2.2.4-py3.6.egg (2.2.4)\n",
      "Requirement already satisfied: PyYAML in /home/rmandli_g_clemson_edu/.conda/envs/springboard/lib/python3.6/site-packages/PyYAML-5.1-py3.6-linux-x86_64.egg (from yacs) (5.1)\n",
      "Collecting kiwisolver>=1.0.1 (from matplotlib)\n",
      "\u001b[?25l  Downloading https://files.pythonhosted.org/packages/f8/a1/5742b56282449b1c0968197f63eae486eca2c35dcd334bab75ad524e0de1/kiwisolver-1.1.0-cp36-cp36m-manylinux1_x86_64.whl (90kB)\n",
      "\u001b[K     |████████████████████████████████| 92kB 37.4MB/s eta 0:00:01\n",
      "\u001b[?25hCollecting cycler>=0.10 (from matplotlib)\n",
      "  Downloading https://files.pythonhosted.org/packages/f7/d2/e07d3ebb2bd7af696440ce7e754c59dd546ffe1bbe732c8ab68b9c834e61/cycler-0.10.0-py2.py3-none-any.whl\n",
      "Requirement already satisfied: numpy>=1.11 in /home/rmandli_g_clemson_edu/.conda/envs/springboard/lib/python3.6/site-packages (from matplotlib) (1.16.4)\n",
      "Collecting pyparsing!=2.0.4,!=2.1.2,!=2.1.6,>=2.0.1 (from matplotlib)\n",
      "\u001b[?25l  Downloading https://files.pythonhosted.org/packages/dd/d9/3ec19e966301a6e25769976999bd7bbe552016f0d32b577dc9d63d2e0c49/pyparsing-2.4.0-py2.py3-none-any.whl (62kB)\n",
      "\u001b[K     |████████████████████████████████| 71kB 1.6MB/s  eta 0:00:01\n",
      "\u001b[?25hRequirement already satisfied: python-dateutil>=2.1 in /home/rmandli_g_clemson_edu/.conda/envs/springboard/lib/python3.6/site-packages (from matplotlib) (2.8.0)\n",
      "Requirement already satisfied: setuptools in /home/rmandli_g_clemson_edu/.conda/envs/springboard/lib/python3.6/site-packages (from kiwisolver>=1.0.1->matplotlib) (41.0.1)\n",
      "Requirement already satisfied: six in /home/rmandli_g_clemson_edu/.conda/envs/springboard/lib/python3.6/site-packages (from cycler>=0.10->matplotlib) (1.12.0)\n",
      "Installing collected packages: ninja, yacs, cython, kiwisolver, cycler, pyparsing, matplotlib\n",
      "Successfully installed cycler-0.10.0 cython-0.29.9 kiwisolver-1.1.0 matplotlib-3.1.0 ninja-1.9.0.post1 pyparsing-2.4.0 yacs-0.1.6\n",
      "Collecting git+https://github.com/cocodataset/cocoapi.git#subdirectory=PythonAPI\n",
      "  Cloning https://github.com/cocodataset/cocoapi.git to /tmp/pip-req-build-ia_eas9b\n",
      "  Running command git clone -q https://github.com/cocodataset/cocoapi.git /tmp/pip-req-build-ia_eas9b\n",
      "Requirement already satisfied: setuptools>=18.0 in /home/rmandli_g_clemson_edu/.conda/envs/springboard/lib/python3.6/site-packages (from pycocotools==2.0) (41.0.1)\n",
      "Requirement already satisfied: cython>=0.27.3 in /home/rmandli_g_clemson_edu/.conda/envs/springboard/lib/python3.6/site-packages (from pycocotools==2.0) (0.29.9)\n",
      "Requirement already satisfied: matplotlib>=2.1.0 in /home/rmandli_g_clemson_edu/.conda/envs/springboard/lib/python3.6/site-packages (from pycocotools==2.0) (3.1.0)\n",
      "Requirement already satisfied: cycler>=0.10 in /home/rmandli_g_clemson_edu/.conda/envs/springboard/lib/python3.6/site-packages (from matplotlib>=2.1.0->pycocotools==2.0) (0.10.0)\n",
      "Requirement already satisfied: pyparsing!=2.0.4,!=2.1.2,!=2.1.6,>=2.0.1 in /home/rmandli_g_clemson_edu/.conda/envs/springboard/lib/python3.6/site-packages (from matplotlib>=2.1.0->pycocotools==2.0) (2.4.0)\n",
      "Requirement already satisfied: python-dateutil>=2.1 in /home/rmandli_g_clemson_edu/.conda/envs/springboard/lib/python3.6/site-packages (from matplotlib>=2.1.0->pycocotools==2.0) (2.8.0)\n",
      "Requirement already satisfied: numpy>=1.11 in /home/rmandli_g_clemson_edu/.conda/envs/springboard/lib/python3.6/site-packages (from matplotlib>=2.1.0->pycocotools==2.0) (1.16.4)\n",
      "Requirement already satisfied: kiwisolver>=1.0.1 in /home/rmandli_g_clemson_edu/.conda/envs/springboard/lib/python3.6/site-packages (from matplotlib>=2.1.0->pycocotools==2.0) (1.1.0)\n",
      "Requirement already satisfied: six in /home/rmandli_g_clemson_edu/.conda/envs/springboard/lib/python3.6/site-packages (from cycler>=0.10->matplotlib>=2.1.0->pycocotools==2.0) (1.12.0)\n",
      "Building wheels for collected packages: pycocotools\n",
      "  Building wheel for pycocotools (setup.py) ... \u001b[?25ldone\n",
      "\u001b[?25h  Stored in directory: /tmp/pip-ephem-wheel-cache-5njxgh30/wheels/90/51/41/646daf401c3bc408ff10de34ec76587a9b3ebfac8d21ca5c3a\n",
      "Successfully built pycocotools\n",
      "Installing collected packages: pycocotools\n",
      "Successfully installed pycocotools-2.0\n"
     ]
    }
   ],
   "source": [
    "# Install dependencies\n",
    "!pip install ninja yacs cython matplotlib demjson\n",
    "!pip install git+https://github.com/cocodataset/cocoapi.git#subdirectory=PythonAPI"
   ]
  },
  {
   "cell_type": "code",
   "execution_count": 2,
   "metadata": {},
   "outputs": [
    {
     "name": "stdout",
     "output_type": "stream",
     "text": [
      "build\t\t    docs\t     README.md\t       tools\r\n",
      "CODE_OF_CONDUCT.md  fastText\t     requirements.txt  Untitled.ipynb\r\n",
      "configs\t\t    LICENSE\t     save\t       vqa-maskrcnn-benchmark\r\n",
      "CONTRIBUTING.md     pythia\t     setup.py\r\n",
      "data\t\t    pythia.egg-info  tests\r\n"
     ]
    }
   ],
   "source": [
    "!ls"
   ]
  },
  {
   "cell_type": "code",
   "execution_count": 3,
   "metadata": {},
   "outputs": [
    {
     "name": "stdout",
     "output_type": "stream",
     "text": [
      "/home/rmandli_g_clemson_edu/pythia/vqa-maskrcnn-benchmark\n"
     ]
    }
   ],
   "source": [
    "%cd vqa-maskrcnn-benchmark"
   ]
  },
  {
   "cell_type": "code",
   "execution_count": 4,
   "metadata": {},
   "outputs": [
    {
     "name": "stdout",
     "output_type": "stream",
     "text": [
      "ABSTRACTIONS.md     demo\t\t\t MODEL_ZOO.md\r\n",
      "build\t\t    docker\t\t\t README.md\r\n",
      "CODE_OF_CONDUCT.md  INSTALL.md\t\t\t setup.py\r\n",
      "configs\t\t    LICENSE\t\t\t tests\r\n",
      "CONTRIBUTING.md     maskrcnn_benchmark\t\t tools\r\n",
      "create_json.py\t    maskrcnn_benchmark.egg-info  TROUBLESHOOTING.md\r\n"
     ]
    }
   ],
   "source": [
    "!ls"
   ]
  },
  {
   "cell_type": "code",
   "execution_count": 7,
   "metadata": {},
   "outputs": [
    {
     "name": "stdout",
     "output_type": "stream",
     "text": [
      "running build\n",
      "running build_py\n",
      "running build_ext\n",
      "running develop\n",
      "running egg_info\n",
      "writing maskrcnn_benchmark.egg-info/PKG-INFO\n",
      "writing top-level names to maskrcnn_benchmark.egg-info/top_level.txt\n",
      "writing dependency_links to maskrcnn_benchmark.egg-info/dependency_links.txt\n",
      "reading manifest file 'maskrcnn_benchmark.egg-info/SOURCES.txt'\n",
      "writing manifest file 'maskrcnn_benchmark.egg-info/SOURCES.txt'\n",
      "running build_ext\n",
      "copying build/lib.linux-x86_64-2.7/maskrcnn_benchmark/_C.so -> maskrcnn_benchmark\n",
      "Creating /usr/local/lib/python2.7/dist-packages/maskrcnn-benchmark.egg-link (link to .)\n",
      "maskrcnn-benchmark 0.1 is already the active version in easy-install.pth\n",
      "\n",
      "Installed /home/rmandli_g_clemson_edu/pythia/vqa-maskrcnn-benchmark\n",
      "Processing dependencies for maskrcnn-benchmark==0.1\n",
      "Finished processing dependencies for maskrcnn-benchmark==0.1\n"
     ]
    }
   ],
   "source": [
    "!sudo python setup.py build\n",
    "!sudo python setup.py develop"
   ]
  },
  {
   "cell_type": "code",
   "execution_count": 10,
   "metadata": {},
   "outputs": [],
   "source": [
    "import sys\n",
    "sys.path.append('/home/rmandli_g_clemson_edu/pythia')\n",
    "sys.path.append('/home/rmandli_g_clemson_edu/pythia/vqa-maskrcnn-benchmark')"
   ]
  },
  {
   "cell_type": "code",
   "execution_count": 87,
   "metadata": {},
   "outputs": [],
   "source": [
    "import yaml\n",
    "#import cv2\n",
    "import torch\n",
    "import requests\n",
    "import numpy as np\n",
    "import gc\n",
    "import torch.nn.functional as F\n",
    "#import pandas as pd\n",
    "\n",
    "import torchvision.models as models\n",
    "import torchvision.transforms as transforms\n",
    "\n",
    "\n",
    "from PIL import Image\n",
    "from IPython.display import display, HTML, clear_output\n",
    "from ipywidgets import widgets, Layout\n",
    "from io import BytesIO\n",
    "\n",
    "# from maskrcnn_benchmark.config import cfg\n",
    "# from maskrcnn_benchmark.layers import nms\n",
    "# from maskrcnn_benchmark.modeling.detector import build_detection_model\n",
    "# from maskrcnn_benchmark.structures.image_list import to_image_list\n",
    "# from maskrcnn_benchmark.utils.model_serialization import load_state_dict\n",
    "\n",
    "from pythia.utils.configuration import ConfigNode\n",
    "from pythia.tasks.processors import VocabProcessor, VQAAnswerProcessor, FastTextProcessor\n",
    "from pythia.models import LoRRA\n",
    "from pythia.common.registry import registry\n",
    "from pythia.common.sample import Sample, SampleList\n",
    "from pprint import pprint"
   ]
  },
  {
   "cell_type": "code",
   "execution_count": 88,
   "metadata": {},
   "outputs": [
    {
     "name": "stdout",
     "output_type": "stream",
     "text": [
      "/home/rmandli_g_clemson_edu/pythia\n",
      "configs/vqa/textvqa/lorra.yml\n"
     ]
    }
   ],
   "source": [
    "!pwd\n",
    "!ls configs/vqa/textvqa/lorra.yml"
   ]
  },
  {
   "cell_type": "code",
   "execution_count": 89,
   "metadata": {},
   "outputs": [],
   "source": [
    "pythia_path = '/home/rmandli_g_clemson_edu/pythia'\n",
    "model_config_path = '/home/rmandli_g_clemson_edu/pythia/configs/vqa/textvqa/lorra.yml'"
   ]
  },
  {
   "cell_type": "code",
   "execution_count": 66,
   "metadata": {},
   "outputs": [
    {
     "name": "stdout",
     "output_type": "stream",
     "text": [
      "--2019-06-02 10:40:53--  https://dl.fbaipublicfiles.com/pythia/data/vocabulary_100k.txt\n",
      "Resolving dl.fbaipublicfiles.com (dl.fbaipublicfiles.com)... 104.20.22.166, 104.20.6.166, 2606:4700:10::6814:16a6, ...\n",
      "Connecting to dl.fbaipublicfiles.com (dl.fbaipublicfiles.com)|104.20.22.166|:443... connected.\n",
      "HTTP request sent, awaiting response... 200 OK\n",
      "Length: 626738 (612K) [text/plain]\n",
      "Saving to: ‘data/vocabulary_100k.txt’\n",
      "\n",
      "data/vocabulary_100 100%[===================>] 612.05K  --.-KB/s    in 0.03s   \n",
      "\n",
      "2019-06-02 10:40:53 (18.6 MB/s) - ‘data/vocabulary_100k.txt’ saved [626738/626738]\n",
      "\n"
     ]
    }
   ],
   "source": [
    "!wget -O data/vocabulary_100k.txt https://dl.fbaipublicfiles.com/pythia/data/vocabulary_100k.txt"
   ]
  },
  {
   "cell_type": "code",
   "execution_count": 122,
   "metadata": {},
   "outputs": [
    {
     "name": "stdout",
     "output_type": "stream",
     "text": [
      "{'params': {'max_length': 14,\n",
      "            'preprocessor': {'params': ConfigNode(ConfigNode()),\n",
      "                             'type': 'simple_sentence'},\n",
      "            'vocab': {'embedding_name': 'glove.6B.300d',\n",
      "                      'type': 'intersected',\n",
      "                      'vocab_file': 'data/vocabs/vocabulary_100k.txt'}},\n",
      " 'type': 'vocab'}\n"
     ]
    },
    {
     "ename": "RuntimeError",
     "evalue": "CUDA out of memory. Tried to allocate 86.50 MiB (GPU 0; 11.17 GiB total capacity; 10.82 GiB already allocated; 21.31 MiB free; 206.00 KiB cached)",
     "output_type": "error",
     "traceback": [
      "\u001b[0;31m---------------------------------------------------------------------------\u001b[0m",
      "\u001b[0;31mRuntimeError\u001b[0m                              Traceback (most recent call last)",
      "\u001b[0;32m<ipython-input-122-32fb072933cf>\u001b[0m in \u001b[0;36m<module>\u001b[0;34m\u001b[0m\n\u001b[1;32m     58\u001b[0m         \u001b[0mmodel\u001b[0m\u001b[0;34m.\u001b[0m\u001b[0meval\u001b[0m\u001b[0;34m(\u001b[0m\u001b[0;34m)\u001b[0m\u001b[0;34m\u001b[0m\u001b[0;34m\u001b[0m\u001b[0m\n\u001b[1;32m     59\u001b[0m \u001b[0;34m\u001b[0m\u001b[0m\n\u001b[0;32m---> 60\u001b[0;31m \u001b[0mdemo\u001b[0m \u001b[0;34m=\u001b[0m \u001b[0mTextVQADemo\u001b[0m\u001b[0;34m(\u001b[0m\u001b[0;34m)\u001b[0m\u001b[0;34m\u001b[0m\u001b[0;34m\u001b[0m\u001b[0m\n\u001b[0m",
      "\u001b[0;32m<ipython-input-122-32fb072933cf>\u001b[0m in \u001b[0;36m__init__\u001b[0;34m(self)\u001b[0m\n\u001b[1;32m      2\u001b[0m     \u001b[0;32mdef\u001b[0m \u001b[0m__init__\u001b[0m\u001b[0;34m(\u001b[0m\u001b[0mself\u001b[0m\u001b[0;34m)\u001b[0m\u001b[0;34m:\u001b[0m\u001b[0;34m\u001b[0m\u001b[0;34m\u001b[0m\u001b[0m\n\u001b[1;32m      3\u001b[0m         \u001b[0mself\u001b[0m\u001b[0;34m.\u001b[0m\u001b[0m_init_processors\u001b[0m\u001b[0;34m(\u001b[0m\u001b[0;34m)\u001b[0m\u001b[0;34m\u001b[0m\u001b[0;34m\u001b[0m\u001b[0m\n\u001b[0;32m----> 4\u001b[0;31m         \u001b[0mself\u001b[0m\u001b[0;34m.\u001b[0m\u001b[0mlorra_model\u001b[0m \u001b[0;34m=\u001b[0m \u001b[0mself\u001b[0m\u001b[0;34m.\u001b[0m\u001b[0m_build_lorra_model\u001b[0m\u001b[0;34m(\u001b[0m\u001b[0;34m)\u001b[0m\u001b[0;34m\u001b[0m\u001b[0;34m\u001b[0m\u001b[0m\n\u001b[0m\u001b[1;32m      5\u001b[0m \u001b[0;31m#         self.detection_model = self._build_detection_model()\u001b[0m\u001b[0;34m\u001b[0m\u001b[0;34m\u001b[0m\u001b[0;34m\u001b[0m\u001b[0m\n\u001b[1;32m      6\u001b[0m \u001b[0;31m#         self.resnet_model = self._build_resnet_model()\u001b[0m\u001b[0;34m\u001b[0m\u001b[0;34m\u001b[0m\u001b[0;34m\u001b[0m\u001b[0m\n",
      "\u001b[0;32m<ipython-input-122-32fb072933cf>\u001b[0m in \u001b[0;36m_build_lorra_model\u001b[0;34m(self)\u001b[0m\n\u001b[1;32m     44\u001b[0m \u001b[0;34m\u001b[0m\u001b[0m\n\u001b[1;32m     45\u001b[0m     \u001b[0;32mdef\u001b[0m \u001b[0m_build_lorra_model\u001b[0m\u001b[0;34m(\u001b[0m\u001b[0mself\u001b[0m\u001b[0;34m)\u001b[0m\u001b[0;34m:\u001b[0m\u001b[0;34m\u001b[0m\u001b[0;34m\u001b[0m\u001b[0m\n\u001b[0;32m---> 46\u001b[0;31m         \u001b[0mstate_dict\u001b[0m \u001b[0;34m=\u001b[0m \u001b[0mtorch\u001b[0m\u001b[0;34m.\u001b[0m\u001b[0mload\u001b[0m\u001b[0;34m(\u001b[0m\u001b[0;34m'data/models/lorra_best.pth'\u001b[0m\u001b[0;34m)\u001b[0m\u001b[0;34m\u001b[0m\u001b[0;34m\u001b[0m\u001b[0m\n\u001b[0m\u001b[1;32m     47\u001b[0m         \u001b[0mmodel_config\u001b[0m \u001b[0;34m=\u001b[0m \u001b[0mself\u001b[0m\u001b[0;34m.\u001b[0m\u001b[0mconfig\u001b[0m\u001b[0;34m.\u001b[0m\u001b[0mmodel_attributes\u001b[0m\u001b[0;34m.\u001b[0m\u001b[0mlorra\u001b[0m\u001b[0;34m\u001b[0m\u001b[0;34m\u001b[0m\u001b[0m\n\u001b[1;32m     48\u001b[0m         \u001b[0mpprint\u001b[0m\u001b[0;34m(\u001b[0m\u001b[0mmodel_config\u001b[0m\u001b[0;34m.\u001b[0m\u001b[0mclassifier\u001b[0m\u001b[0;34m)\u001b[0m\u001b[0;34m\u001b[0m\u001b[0;34m\u001b[0m\u001b[0m\n",
      "\u001b[0;32m~/.conda/envs/springboard/lib/python3.6/site-packages/torch-1.0.1.post2-py3.6-linux-x86_64.egg/torch/serialization.py\u001b[0m in \u001b[0;36mload\u001b[0;34m(f, map_location, pickle_module)\u001b[0m\n\u001b[1;32m    366\u001b[0m         \u001b[0mf\u001b[0m \u001b[0;34m=\u001b[0m \u001b[0mopen\u001b[0m\u001b[0;34m(\u001b[0m\u001b[0mf\u001b[0m\u001b[0;34m,\u001b[0m \u001b[0;34m'rb'\u001b[0m\u001b[0;34m)\u001b[0m\u001b[0;34m\u001b[0m\u001b[0;34m\u001b[0m\u001b[0m\n\u001b[1;32m    367\u001b[0m     \u001b[0;32mtry\u001b[0m\u001b[0;34m:\u001b[0m\u001b[0;34m\u001b[0m\u001b[0;34m\u001b[0m\u001b[0m\n\u001b[0;32m--> 368\u001b[0;31m         \u001b[0;32mreturn\u001b[0m \u001b[0m_load\u001b[0m\u001b[0;34m(\u001b[0m\u001b[0mf\u001b[0m\u001b[0;34m,\u001b[0m \u001b[0mmap_location\u001b[0m\u001b[0;34m,\u001b[0m \u001b[0mpickle_module\u001b[0m\u001b[0;34m)\u001b[0m\u001b[0;34m\u001b[0m\u001b[0;34m\u001b[0m\u001b[0m\n\u001b[0m\u001b[1;32m    369\u001b[0m     \u001b[0;32mfinally\u001b[0m\u001b[0;34m:\u001b[0m\u001b[0;34m\u001b[0m\u001b[0;34m\u001b[0m\u001b[0m\n\u001b[1;32m    370\u001b[0m         \u001b[0;32mif\u001b[0m \u001b[0mnew_fd\u001b[0m\u001b[0;34m:\u001b[0m\u001b[0;34m\u001b[0m\u001b[0;34m\u001b[0m\u001b[0m\n",
      "\u001b[0;32m~/.conda/envs/springboard/lib/python3.6/site-packages/torch-1.0.1.post2-py3.6-linux-x86_64.egg/torch/serialization.py\u001b[0m in \u001b[0;36m_load\u001b[0;34m(f, map_location, pickle_module)\u001b[0m\n\u001b[1;32m    540\u001b[0m     \u001b[0munpickler\u001b[0m \u001b[0;34m=\u001b[0m \u001b[0mpickle_module\u001b[0m\u001b[0;34m.\u001b[0m\u001b[0mUnpickler\u001b[0m\u001b[0;34m(\u001b[0m\u001b[0mf\u001b[0m\u001b[0;34m)\u001b[0m\u001b[0;34m\u001b[0m\u001b[0;34m\u001b[0m\u001b[0m\n\u001b[1;32m    541\u001b[0m     \u001b[0munpickler\u001b[0m\u001b[0;34m.\u001b[0m\u001b[0mpersistent_load\u001b[0m \u001b[0;34m=\u001b[0m \u001b[0mpersistent_load\u001b[0m\u001b[0;34m\u001b[0m\u001b[0;34m\u001b[0m\u001b[0m\n\u001b[0;32m--> 542\u001b[0;31m     \u001b[0mresult\u001b[0m \u001b[0;34m=\u001b[0m \u001b[0munpickler\u001b[0m\u001b[0;34m.\u001b[0m\u001b[0mload\u001b[0m\u001b[0;34m(\u001b[0m\u001b[0;34m)\u001b[0m\u001b[0;34m\u001b[0m\u001b[0;34m\u001b[0m\u001b[0m\n\u001b[0m\u001b[1;32m    543\u001b[0m \u001b[0;34m\u001b[0m\u001b[0m\n\u001b[1;32m    544\u001b[0m     \u001b[0mdeserialized_storage_keys\u001b[0m \u001b[0;34m=\u001b[0m \u001b[0mpickle_module\u001b[0m\u001b[0;34m.\u001b[0m\u001b[0mload\u001b[0m\u001b[0;34m(\u001b[0m\u001b[0mf\u001b[0m\u001b[0;34m)\u001b[0m\u001b[0;34m\u001b[0m\u001b[0;34m\u001b[0m\u001b[0m\n",
      "\u001b[0;32m~/.conda/envs/springboard/lib/python3.6/site-packages/torch-1.0.1.post2-py3.6-linux-x86_64.egg/torch/serialization.py\u001b[0m in \u001b[0;36mpersistent_load\u001b[0;34m(saved_id)\u001b[0m\n\u001b[1;32m    503\u001b[0m             \u001b[0;32mif\u001b[0m \u001b[0mroot_key\u001b[0m \u001b[0;32mnot\u001b[0m \u001b[0;32min\u001b[0m \u001b[0mdeserialized_objects\u001b[0m\u001b[0;34m:\u001b[0m\u001b[0;34m\u001b[0m\u001b[0;34m\u001b[0m\u001b[0m\n\u001b[1;32m    504\u001b[0m                 deserialized_objects[root_key] = restore_location(\n\u001b[0;32m--> 505\u001b[0;31m                     data_type(size), location)\n\u001b[0m\u001b[1;32m    506\u001b[0m             \u001b[0mstorage\u001b[0m \u001b[0;34m=\u001b[0m \u001b[0mdeserialized_objects\u001b[0m\u001b[0;34m[\u001b[0m\u001b[0mroot_key\u001b[0m\u001b[0;34m]\u001b[0m\u001b[0;34m\u001b[0m\u001b[0;34m\u001b[0m\u001b[0m\n\u001b[1;32m    507\u001b[0m             \u001b[0;32mif\u001b[0m \u001b[0mview_metadata\u001b[0m \u001b[0;32mis\u001b[0m \u001b[0;32mnot\u001b[0m \u001b[0;32mNone\u001b[0m\u001b[0;34m:\u001b[0m\u001b[0;34m\u001b[0m\u001b[0;34m\u001b[0m\u001b[0m\n",
      "\u001b[0;32m~/.conda/envs/springboard/lib/python3.6/site-packages/torch-1.0.1.post2-py3.6-linux-x86_64.egg/torch/serialization.py\u001b[0m in \u001b[0;36mdefault_restore_location\u001b[0;34m(storage, location)\u001b[0m\n\u001b[1;32m    112\u001b[0m \u001b[0;32mdef\u001b[0m \u001b[0mdefault_restore_location\u001b[0m\u001b[0;34m(\u001b[0m\u001b[0mstorage\u001b[0m\u001b[0;34m,\u001b[0m \u001b[0mlocation\u001b[0m\u001b[0;34m)\u001b[0m\u001b[0;34m:\u001b[0m\u001b[0;34m\u001b[0m\u001b[0;34m\u001b[0m\u001b[0m\n\u001b[1;32m    113\u001b[0m     \u001b[0;32mfor\u001b[0m \u001b[0m_\u001b[0m\u001b[0;34m,\u001b[0m \u001b[0m_\u001b[0m\u001b[0;34m,\u001b[0m \u001b[0mfn\u001b[0m \u001b[0;32min\u001b[0m \u001b[0m_package_registry\u001b[0m\u001b[0;34m:\u001b[0m\u001b[0;34m\u001b[0m\u001b[0;34m\u001b[0m\u001b[0m\n\u001b[0;32m--> 114\u001b[0;31m         \u001b[0mresult\u001b[0m \u001b[0;34m=\u001b[0m \u001b[0mfn\u001b[0m\u001b[0;34m(\u001b[0m\u001b[0mstorage\u001b[0m\u001b[0;34m,\u001b[0m \u001b[0mlocation\u001b[0m\u001b[0;34m)\u001b[0m\u001b[0;34m\u001b[0m\u001b[0;34m\u001b[0m\u001b[0m\n\u001b[0m\u001b[1;32m    115\u001b[0m         \u001b[0;32mif\u001b[0m \u001b[0mresult\u001b[0m \u001b[0;32mis\u001b[0m \u001b[0;32mnot\u001b[0m \u001b[0;32mNone\u001b[0m\u001b[0;34m:\u001b[0m\u001b[0;34m\u001b[0m\u001b[0;34m\u001b[0m\u001b[0m\n\u001b[1;32m    116\u001b[0m             \u001b[0;32mreturn\u001b[0m \u001b[0mresult\u001b[0m\u001b[0;34m\u001b[0m\u001b[0;34m\u001b[0m\u001b[0m\n",
      "\u001b[0;32m~/.conda/envs/springboard/lib/python3.6/site-packages/torch-1.0.1.post2-py3.6-linux-x86_64.egg/torch/serialization.py\u001b[0m in \u001b[0;36m_cuda_deserialize\u001b[0;34m(obj, location)\u001b[0m\n\u001b[1;32m     94\u001b[0m     \u001b[0;32mif\u001b[0m \u001b[0mlocation\u001b[0m\u001b[0;34m.\u001b[0m\u001b[0mstartswith\u001b[0m\u001b[0;34m(\u001b[0m\u001b[0;34m'cuda'\u001b[0m\u001b[0;34m)\u001b[0m\u001b[0;34m:\u001b[0m\u001b[0;34m\u001b[0m\u001b[0;34m\u001b[0m\u001b[0m\n\u001b[1;32m     95\u001b[0m         \u001b[0mdevice\u001b[0m \u001b[0;34m=\u001b[0m \u001b[0mvalidate_cuda_device\u001b[0m\u001b[0;34m(\u001b[0m\u001b[0mlocation\u001b[0m\u001b[0;34m)\u001b[0m\u001b[0;34m\u001b[0m\u001b[0;34m\u001b[0m\u001b[0m\n\u001b[0;32m---> 96\u001b[0;31m         \u001b[0;32mreturn\u001b[0m \u001b[0mobj\u001b[0m\u001b[0;34m.\u001b[0m\u001b[0mcuda\u001b[0m\u001b[0;34m(\u001b[0m\u001b[0mdevice\u001b[0m\u001b[0;34m)\u001b[0m\u001b[0;34m\u001b[0m\u001b[0;34m\u001b[0m\u001b[0m\n\u001b[0m\u001b[1;32m     97\u001b[0m \u001b[0;34m\u001b[0m\u001b[0m\n\u001b[1;32m     98\u001b[0m \u001b[0;34m\u001b[0m\u001b[0m\n",
      "\u001b[0;32m~/.conda/envs/springboard/lib/python3.6/site-packages/torch-1.0.1.post2-py3.6-linux-x86_64.egg/torch/_utils.py\u001b[0m in \u001b[0;36m_cuda\u001b[0;34m(self, device, non_blocking, **kwargs)\u001b[0m\n\u001b[1;32m     74\u001b[0m         \u001b[0;32melse\u001b[0m\u001b[0;34m:\u001b[0m\u001b[0;34m\u001b[0m\u001b[0;34m\u001b[0m\u001b[0m\n\u001b[1;32m     75\u001b[0m             \u001b[0mnew_type\u001b[0m \u001b[0;34m=\u001b[0m \u001b[0mgetattr\u001b[0m\u001b[0;34m(\u001b[0m\u001b[0mtorch\u001b[0m\u001b[0;34m.\u001b[0m\u001b[0mcuda\u001b[0m\u001b[0;34m,\u001b[0m \u001b[0mself\u001b[0m\u001b[0;34m.\u001b[0m\u001b[0m__class__\u001b[0m\u001b[0;34m.\u001b[0m\u001b[0m__name__\u001b[0m\u001b[0;34m)\u001b[0m\u001b[0;34m\u001b[0m\u001b[0;34m\u001b[0m\u001b[0m\n\u001b[0;32m---> 76\u001b[0;31m             \u001b[0;32mreturn\u001b[0m \u001b[0mnew_type\u001b[0m\u001b[0;34m(\u001b[0m\u001b[0mself\u001b[0m\u001b[0;34m.\u001b[0m\u001b[0msize\u001b[0m\u001b[0;34m(\u001b[0m\u001b[0;34m)\u001b[0m\u001b[0;34m)\u001b[0m\u001b[0;34m.\u001b[0m\u001b[0mcopy_\u001b[0m\u001b[0;34m(\u001b[0m\u001b[0mself\u001b[0m\u001b[0;34m,\u001b[0m \u001b[0mnon_blocking\u001b[0m\u001b[0;34m)\u001b[0m\u001b[0;34m\u001b[0m\u001b[0;34m\u001b[0m\u001b[0m\n\u001b[0m\u001b[1;32m     77\u001b[0m \u001b[0;34m\u001b[0m\u001b[0m\n\u001b[1;32m     78\u001b[0m \u001b[0;34m\u001b[0m\u001b[0m\n",
      "\u001b[0;31mRuntimeError\u001b[0m: CUDA out of memory. Tried to allocate 86.50 MiB (GPU 0; 11.17 GiB total capacity; 10.82 GiB already allocated; 21.31 MiB free; 206.00 KiB cached)"
     ]
    }
   ],
   "source": [
    "class TextVQADemo:\n",
    "    def __init__(self):\n",
    "        self._init_processors()\n",
    "        self.lorra_model = self._build_lorra_model()\n",
    "#         self.detection_model = self._build_detection_model()\n",
    "#         self.resnet_model = self._build_resnet_model()\n",
    "        \n",
    "    def _init_processors(self):\n",
    "        \"\"\"\n",
    "        Pythia uses processors is to keep data processing pipelines as similar as\n",
    "        possible for different datasets and allow code reusability.\n",
    "        \"\"\"\n",
    "        with open(\"configs/vqa/textvqa/lorra.yml\") as f:\n",
    "            config = yaml.load(f, Loader=yaml.FullLoader)\n",
    "            \n",
    "        config['datasets'] = 'textvqa'\n",
    "        #update config with includes for model specific config\n",
    "        for inc in config.get(\"includes\", []):\n",
    "            config.update(yaml.load(open(\"pythia/\"+ inc), Loader=yaml.FullLoader))\n",
    "\n",
    "        config = ConfigNode(config)\n",
    "        textvqa_config = config.task_attributes.vqa.dataset_attributes.textvqa\n",
    "        \n",
    "        answer_processor_config = textvqa_config.processors.answer_processor\n",
    "        answer_processor_config.params.vocab_file = \\\n",
    "            \"data/vocabs/answers_textvqa_more_than_1.txt\"\n",
    "        self.answer_processor = VQAAnswerProcessor(answer_processor_config.params)\n",
    "        registry.register(\"textvqa_answer_processor\", self.answer_processor)\n",
    "        \n",
    "        text_processor_config = textvqa_config.processors.text_processor\n",
    "        text_processor_config.params.vocab.vocab_file = \"data/vocabs/vocabulary_100k.txt\"\n",
    "        self.text_processor = VocabProcessor(text_processor_config.params)\n",
    "        registry.register(\"textvqa_text_processor\", self.text_processor)\n",
    "        pprint(text_processor_config)\n",
    "        \n",
    "        context_processor_config = textvqa_config.processors.context_processor\n",
    "        self.context_processor = FastTextProcessor(context_processor_config.params)\n",
    "        registry.register(\"textvqa_context_processor\", self.context_processor)\n",
    "        \n",
    "        self.config = config\n",
    "\n",
    "        registry.register(\"config\", config)\n",
    "        #pprint(config.classifier.keys())\n",
    "        \n",
    "    def _build_lorra_model(self):\n",
    "        state_dict = torch.load('data/models/lorra_best.pth')\n",
    "        model_config = self.config.model_attributes.lorra\n",
    "        pprint(model_config.classifier)\n",
    "        model = LoRRA(model_config)\n",
    "        model.build()\n",
    "        model.init_losses_and_metrics()\n",
    "        if list(state_dict.keys())[0].startswith('module') and \\\n",
    "           not hasattr(model, 'module'):\n",
    "            state_dict = self._multi_gpu_state_to_single(state_dict)\n",
    "\n",
    "        model.load_state_dict(state_dict)\n",
    "        model.to(\"cuda\")\n",
    "        model.eval()\n",
    "    \n",
    "demo = TextVQADemo()"
   ]
  },
  {
   "cell_type": "code",
   "execution_count": null,
   "metadata": {},
   "outputs": [],
   "source": []
  },
  {
   "cell_type": "code",
   "execution_count": null,
   "metadata": {},
   "outputs": [],
   "source": []
  }
 ],
 "metadata": {
  "kernelspec": {
   "display_name": "springboard",
   "language": "python",
   "name": "springboard"
  },
  "language_info": {
   "codemirror_mode": {
    "name": "ipython",
    "version": 3
   },
   "file_extension": ".py",
   "mimetype": "text/x-python",
   "name": "python",
   "nbconvert_exporter": "python",
   "pygments_lexer": "ipython3",
   "version": "3.6.8"
  }
 },
 "nbformat": 4,
 "nbformat_minor": 2
}
